{
 "cells": [
  {
   "cell_type": "code",
   "execution_count": 4,
   "id": "08b57ed2-f4eb-4de9-8f2f-bc3f7ef48629",
   "metadata": {},
   "outputs": [
    {
     "ename": "ModuleNotFoundError",
     "evalue": "No module named 'folium'",
     "output_type": "error",
     "traceback": [
      "\u001b[0;31m---------------------------------------------------------------------------\u001b[0m",
      "\u001b[0;31mModuleNotFoundError\u001b[0m                       Traceback (most recent call last)",
      "\u001b[0;32m<ipython-input-4-fce11f87bbd2>\u001b[0m in \u001b[0;36m<module>\u001b[0;34m\u001b[0m\n\u001b[1;32m      5\u001b[0m \u001b[0;34m\u001b[0m\u001b[0m\n\u001b[1;32m      6\u001b[0m \u001b[0;31m#from dadata import Dadata\u001b[0m\u001b[0;34m\u001b[0m\u001b[0;34m\u001b[0m\u001b[0;34m\u001b[0m\u001b[0m\n\u001b[0;32m----> 7\u001b[0;31m \u001b[0;32mfrom\u001b[0m \u001b[0mfolium\u001b[0m\u001b[0;34m.\u001b[0m\u001b[0mplugins\u001b[0m \u001b[0;32mimport\u001b[0m \u001b[0mMarkerCluster\u001b[0m\u001b[0;34m\u001b[0m\u001b[0;34m\u001b[0m\u001b[0m\n\u001b[0m\u001b[1;32m      8\u001b[0m \u001b[0;32mfrom\u001b[0m \u001b[0mtqdm\u001b[0m\u001b[0;34m.\u001b[0m\u001b[0mnotebook\u001b[0m \u001b[0;32mimport\u001b[0m \u001b[0mtqdm\u001b[0m\u001b[0;34m\u001b[0m\u001b[0;34m\u001b[0m\u001b[0m\n\u001b[1;32m      9\u001b[0m \u001b[0;32mfrom\u001b[0m \u001b[0maiographql\u001b[0m\u001b[0;34m.\u001b[0m\u001b[0mclient\u001b[0m \u001b[0;32mimport\u001b[0m \u001b[0mGraphQLClient\u001b[0m\u001b[0;34m\u001b[0m\u001b[0;34m\u001b[0m\u001b[0m\n",
      "\u001b[0;31mModuleNotFoundError\u001b[0m: No module named 'folium'"
     ]
    }
   ],
   "source": [
    "import pandas as pd\n",
    "import numpy as np\n",
    "import asyncio\n",
    "import logging\n",
    "\n",
    "from dadata import Dadata\n",
    "from folium.plugins import MarkerCluster\n",
    "from tqdm.notebook import tqdm\n",
    "from aiographql.client import GraphQLClient\n",
    "\n",
    "from gql_requests import get_dshop_base_info\n",
    "\n",
    "from settings import ENDPOINT_URL, DADATA_TOKEN, DADATA_SECRET\n",
    "\n",
    "from dataloads.banners import get_banners_info\n",
    "from dataloads.categories import get_categories_info, get_low_level_categories\n",
    "from dataloads.cities import get_cities_info\n",
    "from dataloads.total_products import get_total_products_info\n",
    "from dataloads.all_products import get_all_products"
   ]
  },
  {
   "cell_type": "code",
   "execution_count": 2,
   "id": "bc3a3d9f-cfbb-4857-8141-13d89a69dde9",
   "metadata": {},
   "outputs": [
    {
     "ename": "NameError",
     "evalue": "name 'GraphQLClient' is not defined",
     "output_type": "error",
     "traceback": [
      "\u001b[0;31m---------------------------------------------------------------------------\u001b[0m",
      "\u001b[0;31mNameError\u001b[0m                                 Traceback (most recent call last)",
      "\u001b[0;32m<ipython-input-2-bc7fd573fd29>\u001b[0m in \u001b[0;36m<module>\u001b[0;34m\u001b[0m\n\u001b[1;32m      2\u001b[0m \u001b[0;31m# Create dadata client to fetch address from Dadata API\u001b[0m\u001b[0;34m\u001b[0m\u001b[0;34m\u001b[0m\u001b[0;34m\u001b[0m\u001b[0m\n\u001b[1;32m      3\u001b[0m \u001b[0;31m# Create logging config\u001b[0m\u001b[0;34m\u001b[0m\u001b[0;34m\u001b[0m\u001b[0;34m\u001b[0m\u001b[0m\n\u001b[0;32m----> 4\u001b[0;31m \u001b[0mclient\u001b[0m \u001b[0;34m=\u001b[0m \u001b[0mGraphQLClient\u001b[0m\u001b[0;34m(\u001b[0m\u001b[0mendpoint\u001b[0m\u001b[0;34m=\u001b[0m\u001b[0mENDPOINT_URL\u001b[0m\u001b[0;34m)\u001b[0m\u001b[0;34m\u001b[0m\u001b[0;34m\u001b[0m\u001b[0m\n\u001b[0m\u001b[1;32m      5\u001b[0m \u001b[0mdadata\u001b[0m \u001b[0;34m=\u001b[0m \u001b[0mDadata\u001b[0m\u001b[0;34m(\u001b[0m\u001b[0mDADATA_TOKEN\u001b[0m\u001b[0;34m,\u001b[0m \u001b[0mDADATA_SECRET\u001b[0m\u001b[0;34m)\u001b[0m\u001b[0;34m\u001b[0m\u001b[0;34m\u001b[0m\u001b[0m\n",
      "\u001b[0;31mNameError\u001b[0m: name 'GraphQLClient' is not defined"
     ]
    }
   ],
   "source": [
    "# Create GQL client for requests to Apollo\n",
    "# Create dadata client to fetch address from Dadata API\n",
    "# Create logging config\n",
    "client = GraphQLClient(endpoint=ENDPOINT_URL)\n",
    "dadata = Dadata(DADATA_TOKEN, DADATA_SECRET)"
   ]
  },
  {
   "cell_type": "code",
   "execution_count": null,
   "id": "d353b862-67e2-4797-99f4-b0a50ef79096",
   "metadata": {},
   "outputs": [],
   "source": [
    "logging.info('Start downloading banners data')\n",
    "banners = get_banners_info(data)"
   ]
  }
 ],
 "metadata": {
  "kernelspec": {
   "display_name": "Python 3",
   "language": "python",
   "name": "python3"
  },
  "language_info": {
   "codemirror_mode": {
    "name": "ipython",
    "version": 3
   },
   "file_extension": ".py",
   "mimetype": "text/x-python",
   "name": "python",
   "nbconvert_exporter": "python",
   "pygments_lexer": "ipython3",
   "version": "3.8.8"
  }
 },
 "nbformat": 4,
 "nbformat_minor": 5
}
